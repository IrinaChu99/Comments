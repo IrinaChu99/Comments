{
 "cells": [
  {
   "cell_type": "markdown",
   "metadata": {
    "toc": true
   },
   "source": [
    "<h1>Содержание<span class=\"tocSkip\"></span></h1>\n",
    "<div class=\"toc\"><ul class=\"toc-item\"><li><span><a href=\"#Изучение-данных\" data-toc-modified-id=\"Изучение-данных-1\"><span class=\"toc-item-num\">1&nbsp;&nbsp;</span>Изучение данных</a></span><ul class=\"toc-item\"><li><span><a href=\"#Импортируем-необходимые-библиотеки\" data-toc-modified-id=\"Импортируем-необходимые-библиотеки-1.1\"><span class=\"toc-item-num\">1.1&nbsp;&nbsp;</span>Импортируем необходимые библиотеки</a></span></li><li><span><a href=\"#Загрузим-и-изучим--данные\" data-toc-modified-id=\"Загрузим-и-изучим--данные-1.2\"><span class=\"toc-item-num\">1.2&nbsp;&nbsp;</span>Загрузим и изучим  данные</a></span></li><li><span><a href=\"#Выводы-по-изучению-данных\" data-toc-modified-id=\"Выводы-по-изучению-данных-1.3\"><span class=\"toc-item-num\">1.3&nbsp;&nbsp;</span>Выводы по изучению данных</a></span></li></ul></li><li><span><a href=\"#Подготовка\" data-toc-modified-id=\"Подготовка-2\"><span class=\"toc-item-num\">2&nbsp;&nbsp;</span>Подготовка</a></span><ul class=\"toc-item\"><li><span><a href=\"#Выводы-по-подготовке-данных\" data-toc-modified-id=\"Выводы-по-подготовке-данных-2.1\"><span class=\"toc-item-num\">2.1&nbsp;&nbsp;</span>Выводы по подготовке данных</a></span></li></ul></li><li><span><a href=\"#Обучение\" data-toc-modified-id=\"Обучение-3\"><span class=\"toc-item-num\">3&nbsp;&nbsp;</span>Обучение</a></span><ul class=\"toc-item\"><li><span><a href=\"#Обучение-модели-LogisticRegression\" data-toc-modified-id=\"Обучение-модели-LogisticRegression-3.1\"><span class=\"toc-item-num\">3.1&nbsp;&nbsp;</span>Обучение модели LogisticRegression</a></span></li><li><span><a href=\"#Обучение-модели-DecisionTreeClassifier\" data-toc-modified-id=\"Обучение-модели-DecisionTreeClassifier-3.2\"><span class=\"toc-item-num\">3.2&nbsp;&nbsp;</span>Обучение модели DecisionTreeClassifier</a></span></li><li><span><a href=\"#Обучение-модели-RandomForestClassifier\" data-toc-modified-id=\"Обучение-модели-RandomForestClassifier-3.3\"><span class=\"toc-item-num\">3.3&nbsp;&nbsp;</span>Обучение модели RandomForestClassifier</a></span></li><li><span><a href=\"#Обучение-модели-CatBoostClassifier\" data-toc-modified-id=\"Обучение-модели-CatBoostClassifier-3.4\"><span class=\"toc-item-num\">3.4&nbsp;&nbsp;</span>Обучение модели CatBoostClassifier</a></span></li><li><span><a href=\"#Сводная-таблица-результатов-обучения-моделей\" data-toc-modified-id=\"Сводная-таблица-результатов-обучения-моделей-3.5\"><span class=\"toc-item-num\">3.5&nbsp;&nbsp;</span>Сводная таблица результатов обучения моделей</a></span></li><li><span><a href=\"#Тестирование\" data-toc-modified-id=\"Тестирование-3.6\"><span class=\"toc-item-num\">3.6&nbsp;&nbsp;</span>Тестирование</a></span></li></ul></li><li><span><a href=\"#Выводы\" data-toc-modified-id=\"Выводы-4\"><span class=\"toc-item-num\">4&nbsp;&nbsp;</span>Выводы</a></span></li><li><span><a href=\"#Чек-лист-проверки\" data-toc-modified-id=\"Чек-лист-проверки-5\"><span class=\"toc-item-num\">5&nbsp;&nbsp;</span>Чек-лист проверки</a></span></li></ul></div>"
   ]
  },
  {
   "cell_type": "markdown",
   "metadata": {},
   "source": [
    "# Разработка модели с целью классификации комментариев"
   ]
  },
  {
   "cell_type": "markdown",
   "metadata": {},
   "source": [
    "Один известный интернет магазин \"Х\" запускает новый сервис. Теперь пользователи могут редактировать и дополнять описания товаров - кклиенты предлагают свои правки и комментируют изменения других. Магазину нужен инструмент, который будет искать токсичные комментарии и отправлять их на модерацию. \n",
    "\n",
    "# Задачи проекта\n",
    "\n",
    "- Разработать инструмент, который будет автоматически идентифицировать токсичные комментарии, чтобы отправить их на модерацию и обеспечить безопасную и продуктивную среду для редактирования описаний товаров. В распоряжении набор данных с разметкой о токсичности правок.\n",
    "- Требование заказчика - модель со значением метрики качества *F1* не меньше 0.75. \n",
    "\n",
    "# Шаги решения задач проекта\n",
    "\n",
    "1. Загрузить и подготовить данные.\n",
    "2. Обучить разные модели. \n",
    "3. Сделать выводы.\n",
    "\n",
    "\n",
    "# Описание данных\n",
    "\n",
    "Данные находятся в файле `toxic_comments.csv`. Столбец *text* в нём содержит текст комментария, а *toxic* — целевой признак."
   ]
  },
  {
   "cell_type": "markdown",
   "metadata": {},
   "source": [
    "## Изучение данных"
   ]
  },
  {
   "cell_type": "markdown",
   "metadata": {},
   "source": [
    "### Импортируем необходимые библиотеки"
   ]
  },
  {
   "cell_type": "code",
   "execution_count": 1,
   "metadata": {},
   "outputs": [],
   "source": [
    "import numpy as np\n",
    "import pandas as pd\n",
    "import matplotlib.pyplot as plt\n",
    "import re\n",
    "import nltk\n",
    "\n",
    "from nltk.stem import WordNetLemmatizer\n",
    "from nltk.corpus import stopwords as nltk_stopwords\n",
    "from nltk.corpus import wordnet\n",
    "\n",
    "from sklearn.feature_extraction.text import TfidfVectorizer\n",
    "\n",
    "from sklearn.model_selection import train_test_split, cross_val_score, GridSearchCV\n",
    "\n",
    "from sklearn.linear_model import LogisticRegression, SGDClassifier\n",
    "from sklearn.tree import DecisionTreeClassifier\n",
    "from sklearn.ensemble import RandomForestClassifier\n",
    "from catboost import CatBoostClassifier\n",
    "from sklearn.dummy import DummyClassifier\n",
    "\n",
    "from sklearn.metrics import f1_score\n",
    "\n",
    "from sklearn.utils import shuffle\n",
    "\n",
    "import warnings\n",
    "warnings.filterwarnings('ignore')"
   ]
  },
  {
   "cell_type": "markdown",
   "metadata": {},
   "source": [
    "### Загрузим и изучим  данные "
   ]
  },
  {
   "cell_type": "code",
   "execution_count": 2,
   "metadata": {},
   "outputs": [],
   "source": [
    "try:\n",
    "    data = pd.read_csv('/datasets/toxic_comments.csv')\n",
    "except:\n",
    "    data = pd.read_csv('https://code.s3.yandex.net/datasets/toxic_comments.csv', encoding='utf8')"
   ]
  },
  {
   "cell_type": "code",
   "execution_count": 3,
   "metadata": {},
   "outputs": [
    {
     "name": "stdout",
     "output_type": "stream",
     "text": [
      "<class 'pandas.core.frame.DataFrame'>\n",
      "RangeIndex: 159292 entries, 0 to 159291\n",
      "Data columns (total 3 columns):\n",
      " #   Column      Non-Null Count   Dtype \n",
      "---  ------      --------------   ----- \n",
      " 0   Unnamed: 0  159292 non-null  int64 \n",
      " 1   text        159292 non-null  object\n",
      " 2   toxic       159292 non-null  int64 \n",
      "dtypes: int64(2), object(1)\n",
      "memory usage: 3.6+ MB\n"
     ]
    }
   ],
   "source": [
    "data.info()"
   ]
  },
  {
   "cell_type": "code",
   "execution_count": 4,
   "metadata": {},
   "outputs": [
    {
     "data": {
      "text/html": [
       "<div>\n",
       "<style scoped>\n",
       "    .dataframe tbody tr th:only-of-type {\n",
       "        vertical-align: middle;\n",
       "    }\n",
       "\n",
       "    .dataframe tbody tr th {\n",
       "        vertical-align: top;\n",
       "    }\n",
       "\n",
       "    .dataframe thead th {\n",
       "        text-align: right;\n",
       "    }\n",
       "</style>\n",
       "<table border=\"1\" class=\"dataframe\">\n",
       "  <thead>\n",
       "    <tr style=\"text-align: right;\">\n",
       "      <th></th>\n",
       "      <th>Unnamed: 0</th>\n",
       "      <th>text</th>\n",
       "      <th>toxic</th>\n",
       "    </tr>\n",
       "  </thead>\n",
       "  <tbody>\n",
       "    <tr>\n",
       "      <th>0</th>\n",
       "      <td>0</td>\n",
       "      <td>Explanation\\nWhy the edits made under my usern...</td>\n",
       "      <td>0</td>\n",
       "    </tr>\n",
       "    <tr>\n",
       "      <th>1</th>\n",
       "      <td>1</td>\n",
       "      <td>D'aww! He matches this background colour I'm s...</td>\n",
       "      <td>0</td>\n",
       "    </tr>\n",
       "    <tr>\n",
       "      <th>2</th>\n",
       "      <td>2</td>\n",
       "      <td>Hey man, I'm really not trying to edit war. It...</td>\n",
       "      <td>0</td>\n",
       "    </tr>\n",
       "    <tr>\n",
       "      <th>3</th>\n",
       "      <td>3</td>\n",
       "      <td>\"\\nMore\\nI can't make any real suggestions on ...</td>\n",
       "      <td>0</td>\n",
       "    </tr>\n",
       "    <tr>\n",
       "      <th>4</th>\n",
       "      <td>4</td>\n",
       "      <td>You, sir, are my hero. Any chance you remember...</td>\n",
       "      <td>0</td>\n",
       "    </tr>\n",
       "  </tbody>\n",
       "</table>\n",
       "</div>"
      ],
      "text/plain": [
       "   Unnamed: 0                                               text  toxic\n",
       "0           0  Explanation\\nWhy the edits made under my usern...      0\n",
       "1           1  D'aww! He matches this background colour I'm s...      0\n",
       "2           2  Hey man, I'm really not trying to edit war. It...      0\n",
       "3           3  \"\\nMore\\nI can't make any real suggestions on ...      0\n",
       "4           4  You, sir, are my hero. Any chance you remember...      0"
      ]
     },
     "execution_count": 4,
     "metadata": {},
     "output_type": "execute_result"
    }
   ],
   "source": [
    "data.head(5)"
   ]
  },
  {
   "cell_type": "code",
   "execution_count": 5,
   "metadata": {},
   "outputs": [
    {
     "data": {
      "text/plain": [
       "0    143106\n",
       "1     16186\n",
       "Name: toxic, dtype: int64"
      ]
     },
     "execution_count": 5,
     "metadata": {},
     "output_type": "execute_result"
    }
   ],
   "source": [
    "# Посмотрим соотношение данных по целевому признаку\n",
    "data['toxic'].value_counts()"
   ]
  },
  {
   "cell_type": "code",
   "execution_count": 6,
   "metadata": {},
   "outputs": [
    {
     "data": {
      "text/plain": [
       "0"
      ]
     },
     "execution_count": 6,
     "metadata": {},
     "output_type": "execute_result"
    }
   ],
   "source": [
    "# Проверим данные на наличие дубликатов\n",
    "data.duplicated().sum()"
   ]
  },
  {
   "cell_type": "code",
   "execution_count": 7,
   "metadata": {},
   "outputs": [
    {
     "data": {
      "text/plain": [
       "Unnamed: 0    0\n",
       "text          0\n",
       "toxic         0\n",
       "dtype: int64"
      ]
     },
     "execution_count": 7,
     "metadata": {},
     "output_type": "execute_result"
    }
   ],
   "source": [
    "# Проверим данные на наличие пропусков\n",
    "data.isna().sum()"
   ]
  },
  {
   "cell_type": "markdown",
   "metadata": {},
   "source": [
    "### Выводы по изучению данных\n",
    "- Выявлены лишние символы в столбце с текстом, требующие дальнейшей обработки;\n",
    "- По соотношению значений целевого признака, лидируют объекты отрицательные класса - классы несбалансированы;\n",
    "- Пропуски и дубликаты в данных отсутствуют;\n",
    "- Столбец `Unnamed: 0` не несет ценной информации, лишь дублирует индексы, в дальнейшем избавимся от него."
   ]
  },
  {
   "cell_type": "markdown",
   "metadata": {},
   "source": [
    "## Подготовка"
   ]
  },
  {
   "cell_type": "code",
   "execution_count": 8,
   "metadata": {},
   "outputs": [],
   "source": [
    "# Удалим столбец 'Unnamed: 0'\n",
    "data = data.drop(['Unnamed: 0'], axis=1)"
   ]
  },
  {
   "cell_type": "code",
   "execution_count": 9,
   "metadata": {},
   "outputs": [],
   "source": [
    "# Выполним очистку текстов:\n",
    "def clear_text(text):\n",
    "    text = text.lower()\n",
    "    text = re.sub(r'[^a-zA-Z]', ' ', text)\n",
    "    text = \" \".join(text.split())\n",
    "    return text\n",
    "\n",
    "# Обновим столбец с очищенными данными \n",
    "data['text'] = data['text'].apply(clear_text)"
   ]
  },
  {
   "cell_type": "code",
   "execution_count": 10,
   "metadata": {},
   "outputs": [
    {
     "name": "stderr",
     "output_type": "stream",
     "text": [
      "[nltk_data] Downloading package averaged_perceptron_tagger to\n",
      "[nltk_data]     /home/jovyan/nltk_data...\n",
      "[nltk_data]   Package averaged_perceptron_tagger is already up-to-\n",
      "[nltk_data]       date!\n"
     ]
    }
   ],
   "source": [
    "import nltk\n",
    "nltk.download('averaged_perceptron_tagger')\n",
    "\n",
    "# Выполним лемматизацию с POS-тэгированием слов\n",
    "def get_wordnet_pos(word):\n",
    "    tag = nltk.pos_tag([word])[0][1][0].upper()\n",
    "    tag_dict = {\"J\": wordnet.ADJ,\n",
    "                \"N\": wordnet.NOUN,\n",
    "                \"V\": wordnet.VERB,\n",
    "                \"R\": wordnet.ADV}\n",
    "    return tag_dict.get(tag, wordnet.NOUN)\n",
    "\n",
    "lemmatizer = WordNetLemmatizer()\n",
    "\n",
    "def lemmatize_text(text):\n",
    "    text = [lemmatizer.lemmatize(w, get_wordnet_pos(w)) for w in nltk.word_tokenize(text)]\n",
    "    return ' '.join(text)\n",
    "\n",
    "# Обновим столбец с лемматизированными данными \n",
    "data['text'] = data['text'].apply(lemmatize_text)    "
   ]
  },
  {
   "cell_type": "code",
   "execution_count": 11,
   "metadata": {},
   "outputs": [
    {
     "data": {
      "text/html": [
       "<div>\n",
       "<style scoped>\n",
       "    .dataframe tbody tr th:only-of-type {\n",
       "        vertical-align: middle;\n",
       "    }\n",
       "\n",
       "    .dataframe tbody tr th {\n",
       "        vertical-align: top;\n",
       "    }\n",
       "\n",
       "    .dataframe thead th {\n",
       "        text-align: right;\n",
       "    }\n",
       "</style>\n",
       "<table border=\"1\" class=\"dataframe\">\n",
       "  <thead>\n",
       "    <tr style=\"text-align: right;\">\n",
       "      <th></th>\n",
       "      <th>text</th>\n",
       "      <th>toxic</th>\n",
       "    </tr>\n",
       "  </thead>\n",
       "  <tbody>\n",
       "    <tr>\n",
       "      <th>0</th>\n",
       "      <td>explanation why the edits make under my userna...</td>\n",
       "      <td>0</td>\n",
       "    </tr>\n",
       "    <tr>\n",
       "      <th>1</th>\n",
       "      <td>d aww he match this background colour i m seem...</td>\n",
       "      <td>0</td>\n",
       "    </tr>\n",
       "    <tr>\n",
       "      <th>2</th>\n",
       "      <td>hey man i m really not try to edit war it s ju...</td>\n",
       "      <td>0</td>\n",
       "    </tr>\n",
       "    <tr>\n",
       "      <th>3</th>\n",
       "      <td>more i can t make any real suggestion on impro...</td>\n",
       "      <td>0</td>\n",
       "    </tr>\n",
       "    <tr>\n",
       "      <th>4</th>\n",
       "      <td>you sir be my hero any chance you remember wha...</td>\n",
       "      <td>0</td>\n",
       "    </tr>\n",
       "  </tbody>\n",
       "</table>\n",
       "</div>"
      ],
      "text/plain": [
       "                                                text  toxic\n",
       "0  explanation why the edits make under my userna...      0\n",
       "1  d aww he match this background colour i m seem...      0\n",
       "2  hey man i m really not try to edit war it s ju...      0\n",
       "3  more i can t make any real suggestion on impro...      0\n",
       "4  you sir be my hero any chance you remember wha...      0"
      ]
     },
     "execution_count": 11,
     "metadata": {},
     "output_type": "execute_result"
    }
   ],
   "source": [
    "data.head()"
   ]
  },
  {
   "cell_type": "code",
   "execution_count": 12,
   "metadata": {},
   "outputs": [],
   "source": [
    "# Разделим данные на тренировочную, валидационную и тестовую выборки\n",
    "X = data.drop(['toxic'], axis=1)\n",
    "y = data['toxic']\n",
    "\n",
    "X_train, X_valid, y_train, y_valid = train_test_split(X, y, test_size = 0.5, random_state = 1234)\n",
    "X_valid, X_test, y_valid, y_test = train_test_split(X_valid, y_valid, test_size = 0.5, random_state = 1234)"
   ]
  },
  {
   "cell_type": "code",
   "execution_count": 13,
   "metadata": {},
   "outputs": [
    {
     "name": "stderr",
     "output_type": "stream",
     "text": [
      "[nltk_data] Downloading package stopwords to /home/jovyan/nltk_data...\n",
      "[nltk_data]   Package stopwords is already up-to-date!\n"
     ]
    }
   ],
   "source": [
    "# Избавимся от стоп-слов\n",
    "nltk.download('stopwords')\n",
    "stopwords = set(nltk_stopwords.words('english'))\n",
    "\n",
    "# Создадим счетчик, указав в нем стоп-слова\n",
    "count_tf_idf = TfidfVectorizer(stop_words=stopwords)"
   ]
  },
  {
   "cell_type": "code",
   "execution_count": 14,
   "metadata": {},
   "outputs": [],
   "source": [
    "X_train = count_tf_idf.fit_transform(X_train['text'].values) \n",
    "X_valid = count_tf_idf.transform(X_valid['text'].values) \n",
    "X_test = count_tf_idf.transform(X_test['text'].values) "
   ]
  },
  {
   "cell_type": "code",
   "execution_count": 15,
   "metadata": {},
   "outputs": [
    {
     "name": "stdout",
     "output_type": "stream",
     "text": [
      "(79646, 99708)\n",
      "(79646,)\n",
      "(39823, 99708)\n",
      "(39823,)\n",
      "(39823, 99708)\n",
      "(39823,)\n"
     ]
    }
   ],
   "source": [
    "# Посмотрим на размеры выборок\n",
    "for i in [X_train, y_train, X_valid, y_valid, X_test, y_test]:\n",
    "    print(i.shape)"
   ]
  },
  {
   "cell_type": "code",
   "execution_count": 16,
   "metadata": {},
   "outputs": [
    {
     "name": "stdout",
     "output_type": "stream",
     "text": [
      "0.75\n"
     ]
    }
   ],
   "source": [
    "# Выполним балансировку данных, уменьшая размер весов классов \n",
    "classes = data['toxic'].value_counts()[0]/data['toxic'].value_counts()[1]\n",
    "dict_class = {0:1, 1:classes}\n",
    "# Проверим на логистической регрессии с выводом результата метрики f1\n",
    "model = LogisticRegression(class_weight=dict_class)\n",
    "train_ballanced = cross_val_score(model, X_train, y_train, cv=3, scoring='f1').mean()\n",
    "print(round(train_ballanced,2))"
   ]
  },
  {
   "cell_type": "markdown",
   "metadata": {},
   "source": [
    "### Выводы по подготовке данных\n",
    "- Удалили столбец 'Unnamed: 0';\n",
    "- Выполнили лемматизацию;\n",
    "- Избавились от стоп-слов;\n",
    "- Разделили данные на тренировочную, валидационную и тестовую выборки для дальнейшего обучения;\n",
    "- Выполнили балансировку данных, уменьшая размер весов классов."
   ]
  },
  {
   "cell_type": "markdown",
   "metadata": {},
   "source": [
    "## Обучение"
   ]
  },
  {
   "cell_type": "markdown",
   "metadata": {},
   "source": [
    "### Обучение модели LogisticRegression"
   ]
  },
  {
   "cell_type": "code",
   "execution_count": 17,
   "metadata": {},
   "outputs": [
    {
     "data": {
      "text/html": [
       "<div>\n",
       "<style scoped>\n",
       "    .dataframe tbody tr th:only-of-type {\n",
       "        vertical-align: middle;\n",
       "    }\n",
       "\n",
       "    .dataframe tbody tr th {\n",
       "        vertical-align: top;\n",
       "    }\n",
       "\n",
       "    .dataframe thead th {\n",
       "        text-align: right;\n",
       "    }\n",
       "</style>\n",
       "<table border=\"1\" class=\"dataframe\">\n",
       "  <thead>\n",
       "    <tr style=\"text-align: right;\">\n",
       "      <th></th>\n",
       "      <th>params</th>\n",
       "      <th>mean_test_score</th>\n",
       "      <th>rank_test_score</th>\n",
       "    </tr>\n",
       "  </thead>\n",
       "  <tbody>\n",
       "    <tr>\n",
       "      <th>2</th>\n",
       "      <td>{'C': 10, 'class_weight': {0: 1, 1: 8.84134437...</td>\n",
       "      <td>0.752043</td>\n",
       "      <td>1</td>\n",
       "    </tr>\n",
       "    <tr>\n",
       "      <th>3</th>\n",
       "      <td>{'C': 10, 'class_weight': {0: 1, 1: 8.84134437...</td>\n",
       "      <td>0.752043</td>\n",
       "      <td>1</td>\n",
       "    </tr>\n",
       "    <tr>\n",
       "      <th>0</th>\n",
       "      <td>{'C': 1, 'class_weight': {0: 1, 1: 8.841344371...</td>\n",
       "      <td>0.742156</td>\n",
       "      <td>3</td>\n",
       "    </tr>\n",
       "    <tr>\n",
       "      <th>1</th>\n",
       "      <td>{'C': 1, 'class_weight': {0: 1, 1: 8.841344371...</td>\n",
       "      <td>0.742156</td>\n",
       "      <td>3</td>\n",
       "    </tr>\n",
       "  </tbody>\n",
       "</table>\n",
       "</div>"
      ],
      "text/plain": [
       "                                              params  mean_test_score  \\\n",
       "2  {'C': 10, 'class_weight': {0: 1, 1: 8.84134437...         0.752043   \n",
       "3  {'C': 10, 'class_weight': {0: 1, 1: 8.84134437...         0.752043   \n",
       "0  {'C': 1, 'class_weight': {0: 1, 1: 8.841344371...         0.742156   \n",
       "1  {'C': 1, 'class_weight': {0: 1, 1: 8.841344371...         0.742156   \n",
       "\n",
       "   rank_test_score  \n",
       "2                1  \n",
       "3                1  \n",
       "0                3  \n",
       "1                3  "
      ]
     },
     "metadata": {},
     "output_type": "display_data"
    },
    {
     "name": "stdout",
     "output_type": "stream",
     "text": [
      "f1 с кроссвалидацией: 0.75\n"
     ]
    }
   ],
   "source": [
    "LR_model = LogisticRegression()\n",
    "param_grid = [{'solver':['liblinear', 'newton-cg'],\n",
    "                'C':[1, 10],\n",
    "                'class_weight':[dict_class]}]\n",
    "LR_GSCV = GridSearchCV(LR_model, param_grid, cv = 2, scoring='f1')\n",
    "LR_GSCV.fit(X_train, y_train)\n",
    "\n",
    "LR_best_params = LR_GSCV.best_params_\n",
    "# Выведем результаты\n",
    "LR_results = pd.DataFrame(LR_GSCV.cv_results_)\n",
    "display(LR_results[['params', 'mean_test_score', 'rank_test_score']].sort_values('rank_test_score'))\n",
    "# Отдельно обозначим значение f1 для лучшей модели \n",
    "f1_LR_best = round((LR_results['mean_test_score'].max()),2)\n",
    "print('f1 с кроссвалидацией:', f1_LR_best)"
   ]
  },
  {
   "cell_type": "code",
   "execution_count": 18,
   "metadata": {},
   "outputs": [
    {
     "name": "stdout",
     "output_type": "stream",
     "text": [
      "f1 на валидационной выборке: 0.7554008641382621\n"
     ]
    }
   ],
   "source": [
    "# Посмотрим на результат на валидационной выборке\n",
    "LR_model = LogisticRegression()\n",
    "LR_model.set_params(**LR_best_params)\n",
    "LR_model.fit(X_train, y_train)\n",
    "\n",
    "predict = LR_model.predict(X_valid)\n",
    "f1_LR_valid = f1_score(y_valid, predict)\n",
    "print('f1 на валидационной выборке:', f1_LR_valid)"
   ]
  },
  {
   "cell_type": "markdown",
   "metadata": {},
   "source": [
    "### Обучение модели DecisionTreeClassifier"
   ]
  },
  {
   "cell_type": "code",
   "execution_count": 19,
   "metadata": {},
   "outputs": [
    {
     "data": {
      "text/html": [
       "<div>\n",
       "<style scoped>\n",
       "    .dataframe tbody tr th:only-of-type {\n",
       "        vertical-align: middle;\n",
       "    }\n",
       "\n",
       "    .dataframe tbody tr th {\n",
       "        vertical-align: top;\n",
       "    }\n",
       "\n",
       "    .dataframe thead th {\n",
       "        text-align: right;\n",
       "    }\n",
       "</style>\n",
       "<table border=\"1\" class=\"dataframe\">\n",
       "  <thead>\n",
       "    <tr style=\"text-align: right;\">\n",
       "      <th></th>\n",
       "      <th>params</th>\n",
       "      <th>mean_test_score</th>\n",
       "      <th>rank_test_score</th>\n",
       "    </tr>\n",
       "  </thead>\n",
       "  <tbody>\n",
       "    <tr>\n",
       "      <th>22</th>\n",
       "      <td>{'class_weight': {0: 1, 1: 8.841344371679229},...</td>\n",
       "      <td>0.622218</td>\n",
       "      <td>1</td>\n",
       "    </tr>\n",
       "    <tr>\n",
       "      <th>21</th>\n",
       "      <td>{'class_weight': {0: 1, 1: 8.841344371679229},...</td>\n",
       "      <td>0.622115</td>\n",
       "      <td>2</td>\n",
       "    </tr>\n",
       "    <tr>\n",
       "      <th>20</th>\n",
       "      <td>{'class_weight': {0: 1, 1: 8.841344371679229},...</td>\n",
       "      <td>0.620067</td>\n",
       "      <td>3</td>\n",
       "    </tr>\n",
       "    <tr>\n",
       "      <th>23</th>\n",
       "      <td>{'class_weight': {0: 1, 1: 8.841344371679229},...</td>\n",
       "      <td>0.619999</td>\n",
       "      <td>4</td>\n",
       "    </tr>\n",
       "    <tr>\n",
       "      <th>0</th>\n",
       "      <td>{'class_weight': {0: 1, 1: 8.841344371679229},...</td>\n",
       "      <td>0.616068</td>\n",
       "      <td>5</td>\n",
       "    </tr>\n",
       "    <tr>\n",
       "      <th>17</th>\n",
       "      <td>{'class_weight': {0: 1, 1: 8.841344371679229},...</td>\n",
       "      <td>0.615825</td>\n",
       "      <td>6</td>\n",
       "    </tr>\n",
       "    <tr>\n",
       "      <th>16</th>\n",
       "      <td>{'class_weight': {0: 1, 1: 8.841344371679229},...</td>\n",
       "      <td>0.614803</td>\n",
       "      <td>7</td>\n",
       "    </tr>\n",
       "    <tr>\n",
       "      <th>19</th>\n",
       "      <td>{'class_weight': {0: 1, 1: 8.841344371679229},...</td>\n",
       "      <td>0.614165</td>\n",
       "      <td>8</td>\n",
       "    </tr>\n",
       "    <tr>\n",
       "      <th>18</th>\n",
       "      <td>{'class_weight': {0: 1, 1: 8.841344371679229},...</td>\n",
       "      <td>0.613019</td>\n",
       "      <td>9</td>\n",
       "    </tr>\n",
       "    <tr>\n",
       "      <th>15</th>\n",
       "      <td>{'class_weight': {0: 1, 1: 8.841344371679229},...</td>\n",
       "      <td>0.611052</td>\n",
       "      <td>10</td>\n",
       "    </tr>\n",
       "    <tr>\n",
       "      <th>14</th>\n",
       "      <td>{'class_weight': {0: 1, 1: 8.841344371679229},...</td>\n",
       "      <td>0.604951</td>\n",
       "      <td>11</td>\n",
       "    </tr>\n",
       "    <tr>\n",
       "      <th>13</th>\n",
       "      <td>{'class_weight': {0: 1, 1: 8.841344371679229},...</td>\n",
       "      <td>0.597657</td>\n",
       "      <td>12</td>\n",
       "    </tr>\n",
       "    <tr>\n",
       "      <th>12</th>\n",
       "      <td>{'class_weight': {0: 1, 1: 8.841344371679229},...</td>\n",
       "      <td>0.586007</td>\n",
       "      <td>13</td>\n",
       "    </tr>\n",
       "    <tr>\n",
       "      <th>11</th>\n",
       "      <td>{'class_weight': {0: 1, 1: 8.841344371679229},...</td>\n",
       "      <td>0.580649</td>\n",
       "      <td>14</td>\n",
       "    </tr>\n",
       "    <tr>\n",
       "      <th>10</th>\n",
       "      <td>{'class_weight': {0: 1, 1: 8.841344371679229},...</td>\n",
       "      <td>0.578033</td>\n",
       "      <td>15</td>\n",
       "    </tr>\n",
       "    <tr>\n",
       "      <th>9</th>\n",
       "      <td>{'class_weight': {0: 1, 1: 8.841344371679229},...</td>\n",
       "      <td>0.567855</td>\n",
       "      <td>16</td>\n",
       "    </tr>\n",
       "    <tr>\n",
       "      <th>8</th>\n",
       "      <td>{'class_weight': {0: 1, 1: 8.841344371679229},...</td>\n",
       "      <td>0.561866</td>\n",
       "      <td>17</td>\n",
       "    </tr>\n",
       "    <tr>\n",
       "      <th>7</th>\n",
       "      <td>{'class_weight': {0: 1, 1: 8.841344371679229},...</td>\n",
       "      <td>0.554825</td>\n",
       "      <td>18</td>\n",
       "    </tr>\n",
       "    <tr>\n",
       "      <th>6</th>\n",
       "      <td>{'class_weight': {0: 1, 1: 8.841344371679229},...</td>\n",
       "      <td>0.546374</td>\n",
       "      <td>19</td>\n",
       "    </tr>\n",
       "    <tr>\n",
       "      <th>5</th>\n",
       "      <td>{'class_weight': {0: 1, 1: 8.841344371679229},...</td>\n",
       "      <td>0.545111</td>\n",
       "      <td>20</td>\n",
       "    </tr>\n",
       "    <tr>\n",
       "      <th>4</th>\n",
       "      <td>{'class_weight': {0: 1, 1: 8.841344371679229},...</td>\n",
       "      <td>0.517463</td>\n",
       "      <td>21</td>\n",
       "    </tr>\n",
       "    <tr>\n",
       "      <th>3</th>\n",
       "      <td>{'class_weight': {0: 1, 1: 8.841344371679229},...</td>\n",
       "      <td>0.477180</td>\n",
       "      <td>22</td>\n",
       "    </tr>\n",
       "    <tr>\n",
       "      <th>2</th>\n",
       "      <td>{'class_weight': {0: 1, 1: 8.841344371679229},...</td>\n",
       "      <td>0.429829</td>\n",
       "      <td>23</td>\n",
       "    </tr>\n",
       "    <tr>\n",
       "      <th>1</th>\n",
       "      <td>{'class_weight': {0: 1, 1: 8.841344371679229},...</td>\n",
       "      <td>0.373678</td>\n",
       "      <td>24</td>\n",
       "    </tr>\n",
       "  </tbody>\n",
       "</table>\n",
       "</div>"
      ],
      "text/plain": [
       "                                               params  mean_test_score  \\\n",
       "22  {'class_weight': {0: 1, 1: 8.841344371679229},...         0.622218   \n",
       "21  {'class_weight': {0: 1, 1: 8.841344371679229},...         0.622115   \n",
       "20  {'class_weight': {0: 1, 1: 8.841344371679229},...         0.620067   \n",
       "23  {'class_weight': {0: 1, 1: 8.841344371679229},...         0.619999   \n",
       "0   {'class_weight': {0: 1, 1: 8.841344371679229},...         0.616068   \n",
       "17  {'class_weight': {0: 1, 1: 8.841344371679229},...         0.615825   \n",
       "16  {'class_weight': {0: 1, 1: 8.841344371679229},...         0.614803   \n",
       "19  {'class_weight': {0: 1, 1: 8.841344371679229},...         0.614165   \n",
       "18  {'class_weight': {0: 1, 1: 8.841344371679229},...         0.613019   \n",
       "15  {'class_weight': {0: 1, 1: 8.841344371679229},...         0.611052   \n",
       "14  {'class_weight': {0: 1, 1: 8.841344371679229},...         0.604951   \n",
       "13  {'class_weight': {0: 1, 1: 8.841344371679229},...         0.597657   \n",
       "12  {'class_weight': {0: 1, 1: 8.841344371679229},...         0.586007   \n",
       "11  {'class_weight': {0: 1, 1: 8.841344371679229},...         0.580649   \n",
       "10  {'class_weight': {0: 1, 1: 8.841344371679229},...         0.578033   \n",
       "9   {'class_weight': {0: 1, 1: 8.841344371679229},...         0.567855   \n",
       "8   {'class_weight': {0: 1, 1: 8.841344371679229},...         0.561866   \n",
       "7   {'class_weight': {0: 1, 1: 8.841344371679229},...         0.554825   \n",
       "6   {'class_weight': {0: 1, 1: 8.841344371679229},...         0.546374   \n",
       "5   {'class_weight': {0: 1, 1: 8.841344371679229},...         0.545111   \n",
       "4   {'class_weight': {0: 1, 1: 8.841344371679229},...         0.517463   \n",
       "3   {'class_weight': {0: 1, 1: 8.841344371679229},...         0.477180   \n",
       "2   {'class_weight': {0: 1, 1: 8.841344371679229},...         0.429829   \n",
       "1   {'class_weight': {0: 1, 1: 8.841344371679229},...         0.373678   \n",
       "\n",
       "    rank_test_score  \n",
       "22                1  \n",
       "21                2  \n",
       "20                3  \n",
       "23                4  \n",
       "0                 5  \n",
       "17                6  \n",
       "16                7  \n",
       "19                8  \n",
       "18                9  \n",
       "15               10  \n",
       "14               11  \n",
       "13               12  \n",
       "12               13  \n",
       "11               14  \n",
       "10               15  \n",
       "9                16  \n",
       "8                17  \n",
       "7                18  \n",
       "6                19  \n",
       "5                20  \n",
       "4                21  \n",
       "3                22  \n",
       "2                23  \n",
       "1                24  "
      ]
     },
     "metadata": {},
     "output_type": "display_data"
    },
    {
     "name": "stdout",
     "output_type": "stream",
     "text": [
      "f1 с кроссвалидацией: 0.62\n"
     ]
    }
   ],
   "source": [
    "DTC_model = DecisionTreeClassifier(random_state = 1234)\n",
    "param_grid = [{'max_depth':(None, *range(2, 25)),\n",
    "                'class_weight':[dict_class]}]\n",
    "DTC_GSCV = GridSearchCV(DTC_model, param_grid, cv = 2, scoring='f1')\n",
    "DTC_GSCV.fit(X_train, y_train)\n",
    "\n",
    "DTC_best_params = DTC_GSCV.best_params_\n",
    "# Выведем результаты\n",
    "DTC_results = pd.DataFrame(DTC_GSCV.cv_results_)\n",
    "display(DTC_results[['params', 'mean_test_score', 'rank_test_score']].sort_values('rank_test_score'))\n",
    "# Отдельно обозначим значение f1 для лучшей модели \n",
    "f1_DTC_best = round((DTC_results['mean_test_score'].max()),2)\n",
    "print('f1 с кроссвалидацией:', f1_DTC_best)"
   ]
  },
  {
   "cell_type": "code",
   "execution_count": 20,
   "metadata": {},
   "outputs": [
    {
     "name": "stdout",
     "output_type": "stream",
     "text": [
      "f1 на валидационной выборке: 0.6123260437375746\n"
     ]
    }
   ],
   "source": [
    "# Посмотрим на результат на валидационной выборке\n",
    "DTC_model = DecisionTreeClassifier(random_state = 1234)\n",
    "DTC_model.set_params(**DTC_best_params)\n",
    "DTC_model.fit(X_train, y_train)\n",
    "\n",
    "predict = DTC_model.predict(X_valid)\n",
    "f1_DTC_valid = f1_score(y_valid, predict)\n",
    "print('f1 на валидационной выборке:', f1_DTC_valid)"
   ]
  },
  {
   "cell_type": "markdown",
   "metadata": {},
   "source": [
    "### Обучение модели RandomForestClassifier"
   ]
  },
  {
   "cell_type": "code",
   "execution_count": 21,
   "metadata": {},
   "outputs": [
    {
     "data": {
      "text/html": [
       "<div>\n",
       "<style scoped>\n",
       "    .dataframe tbody tr th:only-of-type {\n",
       "        vertical-align: middle;\n",
       "    }\n",
       "\n",
       "    .dataframe tbody tr th {\n",
       "        vertical-align: top;\n",
       "    }\n",
       "\n",
       "    .dataframe thead th {\n",
       "        text-align: right;\n",
       "    }\n",
       "</style>\n",
       "<table border=\"1\" class=\"dataframe\">\n",
       "  <thead>\n",
       "    <tr style=\"text-align: right;\">\n",
       "      <th></th>\n",
       "      <th>params</th>\n",
       "      <th>mean_test_score</th>\n",
       "      <th>rank_test_score</th>\n",
       "    </tr>\n",
       "  </thead>\n",
       "  <tbody>\n",
       "    <tr>\n",
       "      <th>0</th>\n",
       "      <td>{'class_weight': {0: 1, 1: 8.841344371679229},...</td>\n",
       "      <td>0.590628</td>\n",
       "      <td>1</td>\n",
       "    </tr>\n",
       "    <tr>\n",
       "      <th>18</th>\n",
       "      <td>{'class_weight': {0: 1, 1: 8.841344371679229},...</td>\n",
       "      <td>0.394673</td>\n",
       "      <td>2</td>\n",
       "    </tr>\n",
       "    <tr>\n",
       "      <th>17</th>\n",
       "      <td>{'class_weight': {0: 1, 1: 8.841344371679229},...</td>\n",
       "      <td>0.391621</td>\n",
       "      <td>3</td>\n",
       "    </tr>\n",
       "    <tr>\n",
       "      <th>16</th>\n",
       "      <td>{'class_weight': {0: 1, 1: 8.841344371679229},...</td>\n",
       "      <td>0.387024</td>\n",
       "      <td>4</td>\n",
       "    </tr>\n",
       "    <tr>\n",
       "      <th>15</th>\n",
       "      <td>{'class_weight': {0: 1, 1: 8.841344371679229},...</td>\n",
       "      <td>0.386163</td>\n",
       "      <td>5</td>\n",
       "    </tr>\n",
       "    <tr>\n",
       "      <th>14</th>\n",
       "      <td>{'class_weight': {0: 1, 1: 8.841344371679229},...</td>\n",
       "      <td>0.379654</td>\n",
       "      <td>6</td>\n",
       "    </tr>\n",
       "    <tr>\n",
       "      <th>13</th>\n",
       "      <td>{'class_weight': {0: 1, 1: 8.841344371679229},...</td>\n",
       "      <td>0.375178</td>\n",
       "      <td>7</td>\n",
       "    </tr>\n",
       "    <tr>\n",
       "      <th>12</th>\n",
       "      <td>{'class_weight': {0: 1, 1: 8.841344371679229},...</td>\n",
       "      <td>0.372423</td>\n",
       "      <td>8</td>\n",
       "    </tr>\n",
       "    <tr>\n",
       "      <th>11</th>\n",
       "      <td>{'class_weight': {0: 1, 1: 8.841344371679229},...</td>\n",
       "      <td>0.369843</td>\n",
       "      <td>9</td>\n",
       "    </tr>\n",
       "    <tr>\n",
       "      <th>10</th>\n",
       "      <td>{'class_weight': {0: 1, 1: 8.841344371679229},...</td>\n",
       "      <td>0.364033</td>\n",
       "      <td>10</td>\n",
       "    </tr>\n",
       "    <tr>\n",
       "      <th>8</th>\n",
       "      <td>{'class_weight': {0: 1, 1: 8.841344371679229},...</td>\n",
       "      <td>0.358310</td>\n",
       "      <td>11</td>\n",
       "    </tr>\n",
       "    <tr>\n",
       "      <th>9</th>\n",
       "      <td>{'class_weight': {0: 1, 1: 8.841344371679229},...</td>\n",
       "      <td>0.357732</td>\n",
       "      <td>12</td>\n",
       "    </tr>\n",
       "    <tr>\n",
       "      <th>7</th>\n",
       "      <td>{'class_weight': {0: 1, 1: 8.841344371679229},...</td>\n",
       "      <td>0.349933</td>\n",
       "      <td>13</td>\n",
       "    </tr>\n",
       "    <tr>\n",
       "      <th>6</th>\n",
       "      <td>{'class_weight': {0: 1, 1: 8.841344371679229},...</td>\n",
       "      <td>0.333947</td>\n",
       "      <td>14</td>\n",
       "    </tr>\n",
       "    <tr>\n",
       "      <th>5</th>\n",
       "      <td>{'class_weight': {0: 1, 1: 8.841344371679229},...</td>\n",
       "      <td>0.324077</td>\n",
       "      <td>15</td>\n",
       "    </tr>\n",
       "    <tr>\n",
       "      <th>4</th>\n",
       "      <td>{'class_weight': {0: 1, 1: 8.841344371679229},...</td>\n",
       "      <td>0.320824</td>\n",
       "      <td>16</td>\n",
       "    </tr>\n",
       "    <tr>\n",
       "      <th>3</th>\n",
       "      <td>{'class_weight': {0: 1, 1: 8.841344371679229},...</td>\n",
       "      <td>0.303065</td>\n",
       "      <td>17</td>\n",
       "    </tr>\n",
       "    <tr>\n",
       "      <th>2</th>\n",
       "      <td>{'class_weight': {0: 1, 1: 8.841344371679229},...</td>\n",
       "      <td>0.289871</td>\n",
       "      <td>18</td>\n",
       "    </tr>\n",
       "    <tr>\n",
       "      <th>1</th>\n",
       "      <td>{'class_weight': {0: 1, 1: 8.841344371679229},...</td>\n",
       "      <td>0.270881</td>\n",
       "      <td>19</td>\n",
       "    </tr>\n",
       "  </tbody>\n",
       "</table>\n",
       "</div>"
      ],
      "text/plain": [
       "                                               params  mean_test_score  \\\n",
       "0   {'class_weight': {0: 1, 1: 8.841344371679229},...         0.590628   \n",
       "18  {'class_weight': {0: 1, 1: 8.841344371679229},...         0.394673   \n",
       "17  {'class_weight': {0: 1, 1: 8.841344371679229},...         0.391621   \n",
       "16  {'class_weight': {0: 1, 1: 8.841344371679229},...         0.387024   \n",
       "15  {'class_weight': {0: 1, 1: 8.841344371679229},...         0.386163   \n",
       "14  {'class_weight': {0: 1, 1: 8.841344371679229},...         0.379654   \n",
       "13  {'class_weight': {0: 1, 1: 8.841344371679229},...         0.375178   \n",
       "12  {'class_weight': {0: 1, 1: 8.841344371679229},...         0.372423   \n",
       "11  {'class_weight': {0: 1, 1: 8.841344371679229},...         0.369843   \n",
       "10  {'class_weight': {0: 1, 1: 8.841344371679229},...         0.364033   \n",
       "8   {'class_weight': {0: 1, 1: 8.841344371679229},...         0.358310   \n",
       "9   {'class_weight': {0: 1, 1: 8.841344371679229},...         0.357732   \n",
       "7   {'class_weight': {0: 1, 1: 8.841344371679229},...         0.349933   \n",
       "6   {'class_weight': {0: 1, 1: 8.841344371679229},...         0.333947   \n",
       "5   {'class_weight': {0: 1, 1: 8.841344371679229},...         0.324077   \n",
       "4   {'class_weight': {0: 1, 1: 8.841344371679229},...         0.320824   \n",
       "3   {'class_weight': {0: 1, 1: 8.841344371679229},...         0.303065   \n",
       "2   {'class_weight': {0: 1, 1: 8.841344371679229},...         0.289871   \n",
       "1   {'class_weight': {0: 1, 1: 8.841344371679229},...         0.270881   \n",
       "\n",
       "    rank_test_score  \n",
       "0                 1  \n",
       "18                2  \n",
       "17                3  \n",
       "16                4  \n",
       "15                5  \n",
       "14                6  \n",
       "13                7  \n",
       "12                8  \n",
       "11                9  \n",
       "10               10  \n",
       "8                11  \n",
       "9                12  \n",
       "7                13  \n",
       "6                14  \n",
       "5                15  \n",
       "4                16  \n",
       "3                17  \n",
       "2                18  \n",
       "1                19  "
      ]
     },
     "metadata": {},
     "output_type": "display_data"
    },
    {
     "name": "stdout",
     "output_type": "stream",
     "text": [
      "f1 с кроссвалидацией: 0.59\n"
     ]
    }
   ],
   "source": [
    "RFC_model = RandomForestClassifier(random_state = 1234)\n",
    "param_grid = [{'max_depth': (None, *range(2, 20)),\n",
    "               'criterion': (['entropy']),\n",
    "               'class_weight': [dict_class]}]\n",
    "RFC_GSCV = GridSearchCV(RFC_model, param_grid, cv = 2, scoring='f1')\n",
    "RFC_GSCV.fit(X_train, y_train)\n",
    "\n",
    "RFC_best_params = RFC_GSCV.best_params_\n",
    "# Выведем результаты\n",
    "RFC_results = pd.DataFrame(RFC_GSCV.cv_results_)\n",
    "display(RFC_results[['params', 'mean_test_score', 'rank_test_score']].sort_values('rank_test_score'))\n",
    "# Отдельно обозначим значение f1 для лучшей модели \n",
    "f1_RFC_best = round((RFC_results['mean_test_score'].max()),2)\n",
    "print('f1 с кроссвалидацией:', f1_RFC_best)"
   ]
  },
  {
   "cell_type": "code",
   "execution_count": 22,
   "metadata": {},
   "outputs": [
    {
     "name": "stdout",
     "output_type": "stream",
     "text": [
      "f1 на валидационной выборке: 0.6135593220338983\n"
     ]
    }
   ],
   "source": [
    "# Посмотрим на результат на валидационной выборке\n",
    "RFC_model = RandomForestClassifier(random_state = 1234)\n",
    "RFC_model.set_params(**RFC_best_params)\n",
    "RFC_model.fit(X_train, y_train)\n",
    "\n",
    "predict = RFC_model.predict(X_valid)\n",
    "f1_RFC_valid = f1_score(y_valid, predict)\n",
    "print('f1 на валидационной выборке:', f1_RFC_valid)"
   ]
  },
  {
   "cell_type": "markdown",
   "metadata": {},
   "source": [
    "### Обучение модели CatBoostClassifier"
   ]
  },
  {
   "cell_type": "code",
   "execution_count": 23,
   "metadata": {},
   "outputs": [
    {
     "data": {
      "text/html": [
       "<div>\n",
       "<style scoped>\n",
       "    .dataframe tbody tr th:only-of-type {\n",
       "        vertical-align: middle;\n",
       "    }\n",
       "\n",
       "    .dataframe tbody tr th {\n",
       "        vertical-align: top;\n",
       "    }\n",
       "\n",
       "    .dataframe thead th {\n",
       "        text-align: right;\n",
       "    }\n",
       "</style>\n",
       "<table border=\"1\" class=\"dataframe\">\n",
       "  <thead>\n",
       "    <tr style=\"text-align: right;\">\n",
       "      <th></th>\n",
       "      <th>params</th>\n",
       "      <th>mean_test_score</th>\n",
       "      <th>rank_test_score</th>\n",
       "    </tr>\n",
       "  </thead>\n",
       "  <tbody>\n",
       "    <tr>\n",
       "      <th>0</th>\n",
       "      <td>{'iterations': 200, 'verbose': False}</td>\n",
       "      <td>0.717673</td>\n",
       "      <td>1</td>\n",
       "    </tr>\n",
       "  </tbody>\n",
       "</table>\n",
       "</div>"
      ],
      "text/plain": [
       "                                  params  mean_test_score  rank_test_score\n",
       "0  {'iterations': 200, 'verbose': False}         0.717673                1"
      ]
     },
     "metadata": {},
     "output_type": "display_data"
    },
    {
     "name": "stdout",
     "output_type": "stream",
     "text": [
      "f1 с кроссвалидацией: 0.72\n"
     ]
    }
   ],
   "source": [
    "CBR_model = CatBoostClassifier(random_state = 1234)\n",
    "param_grid = [{'verbose': ([False]),\n",
    "               'iterations': ([200])}]\n",
    "CBR_GSCV = GridSearchCV(CBR_model, param_grid, cv = 2, scoring='f1')\n",
    "CBR_GSCV.fit(X_train, y_train)\n",
    "\n",
    "CBR_best_params = CBR_GSCV.best_params_\n",
    "# Выведем результаты\n",
    "CBR_results = pd.DataFrame(CBR_GSCV.cv_results_)\n",
    "display(CBR_results[['params', 'mean_test_score', 'rank_test_score']].sort_values('rank_test_score'))\n",
    "# Отдельно обозначим значение f1 для лучшей модели \n",
    "f1_CBR_best = round((CBR_results['mean_test_score'].max()),2)\n",
    "print('f1 с кроссвалидацией:', f1_CBR_best)"
   ]
  },
  {
   "cell_type": "code",
   "execution_count": 24,
   "metadata": {},
   "outputs": [
    {
     "name": "stdout",
     "output_type": "stream",
     "text": [
      "f1 на валидационной выборке: 0.731605600238308\n"
     ]
    }
   ],
   "source": [
    "# Посмотрим на результат на валидационной выборке\n",
    "CBR_model = CatBoostClassifier(random_state = 1234)\n",
    "CBR_model.set_params(**CBR_best_params)\n",
    "CBR_model.fit(X_train, y_train)\n",
    "\n",
    "predict = CBR_model.predict(X_valid)\n",
    "f1_CBR_valid = f1_score(y_valid, predict)\n",
    "print('f1 на валидационной выборке:', f1_CBR_valid)"
   ]
  },
  {
   "cell_type": "markdown",
   "metadata": {},
   "source": [
    "### Сводная таблица результатов обучения моделей"
   ]
  },
  {
   "cell_type": "code",
   "execution_count": 25,
   "metadata": {},
   "outputs": [
    {
     "data": {
      "text/html": [
       "<div>\n",
       "<style scoped>\n",
       "    .dataframe tbody tr th:only-of-type {\n",
       "        vertical-align: middle;\n",
       "    }\n",
       "\n",
       "    .dataframe tbody tr th {\n",
       "        vertical-align: top;\n",
       "    }\n",
       "\n",
       "    .dataframe thead th {\n",
       "        text-align: right;\n",
       "    }\n",
       "</style>\n",
       "<table border=\"1\" class=\"dataframe\">\n",
       "  <thead>\n",
       "    <tr style=\"text-align: right;\">\n",
       "      <th></th>\n",
       "      <th>f1 для лучшей модели на CV</th>\n",
       "      <th>f1 для лучшей модели валидации</th>\n",
       "    </tr>\n",
       "  </thead>\n",
       "  <tbody>\n",
       "    <tr>\n",
       "      <th>LogisticRegression</th>\n",
       "      <td>0.75</td>\n",
       "      <td>0.755401</td>\n",
       "    </tr>\n",
       "    <tr>\n",
       "      <th>DecisionTreeClassifier</th>\n",
       "      <td>0.62</td>\n",
       "      <td>0.612326</td>\n",
       "    </tr>\n",
       "    <tr>\n",
       "      <th>RandomForestClassifier</th>\n",
       "      <td>0.59</td>\n",
       "      <td>0.613559</td>\n",
       "    </tr>\n",
       "    <tr>\n",
       "      <th>CatBoostClassifier</th>\n",
       "      <td>0.72</td>\n",
       "      <td>0.731606</td>\n",
       "    </tr>\n",
       "  </tbody>\n",
       "</table>\n",
       "</div>"
      ],
      "text/plain": [
       "                        f1 для лучшей модели на CV  \\\n",
       "LogisticRegression                            0.75   \n",
       "DecisionTreeClassifier                        0.62   \n",
       "RandomForestClassifier                        0.59   \n",
       "CatBoostClassifier                            0.72   \n",
       "\n",
       "                        f1 для лучшей модели валидации  \n",
       "LogisticRegression                            0.755401  \n",
       "DecisionTreeClassifier                        0.612326  \n",
       "RandomForestClassifier                        0.613559  \n",
       "CatBoostClassifier                            0.731606  "
      ]
     },
     "metadata": {},
     "output_type": "display_data"
    }
   ],
   "source": [
    "# Создадим сводную таблицу с результатами получившихся моделей\n",
    "model = ['LogisticRegression',\n",
    "         'DecisionTreeClassifier',\n",
    "         'RandomForestClassifier',\n",
    "         'CatBoostClassifier'] \n",
    "df = {'f1 для лучшей модели на CV': [f1_LR_best,\n",
    "                                     f1_DTC_best,\n",
    "                                     f1_RFC_best,\n",
    "                                     f1_CBR_best],\n",
    "      'f1 для лучшей модели валидации': [f1_LR_valid,\n",
    "                                         f1_DTC_valid,\n",
    "                                         f1_RFC_valid,\n",
    "                                         f1_CBR_valid]}\n",
    "result = pd.DataFrame(df, index = model)\n",
    "display(result)"
   ]
  },
  {
   "cell_type": "markdown",
   "metadata": {},
   "source": [
    "**Выводы по обучению моделей**\n",
    "- По сводной таблице, стоит отметить, что требование: \"Построить модель со значением метрики качества F1 не меньше 0.75\" выполняется у модели **LogisticRegression**.\n",
    "\n",
    "- Выполним предсказание на тестовых данных, используя модель с лучшими показателями метрики качества F1 - LogisticRegression."
   ]
  },
  {
   "cell_type": "markdown",
   "metadata": {},
   "source": [
    "### Тестирование\n",
    "\n",
    "На данном этапе требуется проверить данные на тестовой выборке и сделать выводы."
   ]
  },
  {
   "cell_type": "code",
   "execution_count": 26,
   "metadata": {},
   "outputs": [
    {
     "name": "stdout",
     "output_type": "stream",
     "text": [
      "f1 на лучшей модели LogisticRegressionr 0.75\n"
     ]
    }
   ],
   "source": [
    "LR_GSCV.fit(X_train, y_train)\n",
    "pred_LR = LR_GSCV.predict(X_test)\n",
    "f1_LR = f1_score(y_test, pred_LR)\n",
    "print('f1 на лучшей модели LogisticRegressionr', round(f1_LR,2))"
   ]
  },
  {
   "cell_type": "markdown",
   "metadata": {},
   "source": [
    "## Выводы"
   ]
  },
  {
   "cell_type": "markdown",
   "metadata": {},
   "source": [
    "**Выводы по изучению данных:**\n",
    "- Выявлены лишние символы в столбце с текстом, требующие дальнейшей обработки;\n",
    "- По соотношению значений целевого признака, лидируют объекты отрицательные класса - классы несбалансированы;\n",
    "- Пропуски и дубликаты в данных отсутствуют;\n",
    "- Столбец `Unnamed: 0` не несет ценной информации, лишь дублирует индексы, в дальнейшем избавимся от него.\n",
    "\n",
    "**Выводы по подготовке данных:**\n",
    "- Удалили столбец 'Unnamed: 0';\n",
    "- Выполнили лемматизацию;\n",
    "- Избавились от стоп-слов;\n",
    "- Разделили данные на тренировочную, валидационную и тестовую выборки для дальнейшего обучения;\n",
    "- Выполнили балансировку данных, уменьшая размер весов классов.\n",
    "\n",
    "**Выводы по обучению моделей:**\n",
    "- По сводной таблице, стоит отметить, что требование: \"Построить модель со значением метрики качества F1 не меньше 0.75\" выполняется у модели **LogisticRegression**.\n",
    "- Выполнили предсказание на тестовых данных, используя модель с лучшими показателями метрики качества F1 - LogisticRegression. Получили значение метрики качества F1 не меньше 0.75."
   ]
  }
 ],
 "metadata": {
  "ExecuteTimeLog": [
   {
    "duration": 1495,
    "start_time": "2024-02-29T13:41:13.053Z"
   },
   {
    "duration": 2033,
    "start_time": "2024-02-29T13:44:16.981Z"
   },
   {
    "duration": 65,
    "start_time": "2024-02-29T13:44:32.121Z"
   },
   {
    "duration": 9,
    "start_time": "2024-02-29T13:44:49.441Z"
   },
   {
    "duration": 5,
    "start_time": "2024-02-29T13:45:32.212Z"
   },
   {
    "duration": 105,
    "start_time": "2024-02-29T13:45:55.531Z"
   },
   {
    "duration": 212,
    "start_time": "2024-02-29T13:46:15.382Z"
   },
   {
    "duration": 18,
    "start_time": "2024-02-29T13:46:36.152Z"
   },
   {
    "duration": 6,
    "start_time": "2024-02-29T13:48:21.720Z"
   },
   {
    "duration": 7,
    "start_time": "2024-02-29T14:07:27.575Z"
   },
   {
    "duration": 5832,
    "start_time": "2024-02-29T14:39:14.771Z"
   },
   {
    "duration": 24,
    "start_time": "2024-02-29T14:49:26.778Z"
   },
   {
    "duration": 132,
    "start_time": "2024-02-29T14:54:42.297Z"
   },
   {
    "duration": 6180,
    "start_time": "2024-02-29T15:05:22.137Z"
   },
   {
    "duration": 4,
    "start_time": "2024-02-29T15:06:32.558Z"
   },
   {
    "duration": 3,
    "start_time": "2024-02-29T15:06:53.036Z"
   },
   {
    "duration": 9,
    "start_time": "2024-02-29T15:07:01.007Z"
   },
   {
    "duration": 11,
    "start_time": "2024-02-29T15:07:29.167Z"
   },
   {
    "duration": 1448,
    "start_time": "2024-02-29T15:08:30.139Z"
   },
   {
    "duration": 730,
    "start_time": "2024-02-29T15:08:31.589Z"
   },
   {
    "duration": 62,
    "start_time": "2024-02-29T15:08:32.320Z"
   },
   {
    "duration": 9,
    "start_time": "2024-02-29T15:08:32.384Z"
   },
   {
    "duration": 7,
    "start_time": "2024-02-29T15:08:32.394Z"
   },
   {
    "duration": 225,
    "start_time": "2024-02-29T15:08:32.402Z"
   },
   {
    "duration": 14,
    "start_time": "2024-02-29T15:08:32.629Z"
   },
   {
    "duration": 13,
    "start_time": "2024-02-29T15:08:32.644Z"
   },
   {
    "duration": 5694,
    "start_time": "2024-02-29T15:08:32.658Z"
   },
   {
    "duration": 20,
    "start_time": "2024-02-29T15:08:38.354Z"
   },
   {
    "duration": 142,
    "start_time": "2024-02-29T15:08:38.375Z"
   },
   {
    "duration": 6010,
    "start_time": "2024-02-29T15:08:38.518Z"
   },
   {
    "duration": 1350,
    "start_time": "2024-02-29T15:12:17.907Z"
   },
   {
    "duration": 714,
    "start_time": "2024-02-29T15:12:19.258Z"
   },
   {
    "duration": 65,
    "start_time": "2024-02-29T15:12:19.974Z"
   },
   {
    "duration": 18,
    "start_time": "2024-02-29T15:12:20.041Z"
   },
   {
    "duration": 5,
    "start_time": "2024-02-29T15:12:20.060Z"
   },
   {
    "duration": 222,
    "start_time": "2024-02-29T15:12:20.066Z"
   },
   {
    "duration": 21,
    "start_time": "2024-02-29T15:12:20.290Z"
   },
   {
    "duration": 17,
    "start_time": "2024-02-29T15:12:20.312Z"
   },
   {
    "duration": 5784,
    "start_time": "2024-02-29T15:12:20.330Z"
   },
   {
    "duration": 18,
    "start_time": "2024-02-29T15:12:26.115Z"
   },
   {
    "duration": 155,
    "start_time": "2024-02-29T15:12:26.135Z"
   },
   {
    "duration": 5677,
    "start_time": "2024-02-29T15:12:26.291Z"
   },
   {
    "duration": 10,
    "start_time": "2024-02-29T15:15:07.527Z"
   },
   {
    "duration": 1348,
    "start_time": "2024-02-29T15:17:46.319Z"
   },
   {
    "duration": 723,
    "start_time": "2024-02-29T15:17:47.669Z"
   },
   {
    "duration": 69,
    "start_time": "2024-02-29T15:17:48.393Z"
   },
   {
    "duration": 8,
    "start_time": "2024-02-29T15:17:48.463Z"
   },
   {
    "duration": 28,
    "start_time": "2024-02-29T15:17:48.473Z"
   },
   {
    "duration": 211,
    "start_time": "2024-02-29T15:17:48.502Z"
   },
   {
    "duration": 14,
    "start_time": "2024-02-29T15:17:48.714Z"
   },
   {
    "duration": 8,
    "start_time": "2024-02-29T15:17:48.730Z"
   },
   {
    "duration": 5777,
    "start_time": "2024-02-29T15:17:48.739Z"
   },
   {
    "duration": 17,
    "start_time": "2024-02-29T15:17:54.518Z"
   },
   {
    "duration": 134,
    "start_time": "2024-02-29T15:17:54.537Z"
   },
   {
    "duration": 5812,
    "start_time": "2024-02-29T15:17:54.672Z"
   },
   {
    "duration": 1337,
    "start_time": "2024-02-29T15:21:36.480Z"
   },
   {
    "duration": 708,
    "start_time": "2024-02-29T15:21:37.818Z"
   },
   {
    "duration": 63,
    "start_time": "2024-02-29T15:21:38.527Z"
   },
   {
    "duration": 8,
    "start_time": "2024-02-29T15:21:38.592Z"
   },
   {
    "duration": 9,
    "start_time": "2024-02-29T15:21:38.601Z"
   },
   {
    "duration": 215,
    "start_time": "2024-02-29T15:21:38.611Z"
   },
   {
    "duration": 15,
    "start_time": "2024-02-29T15:21:38.827Z"
   },
   {
    "duration": 14,
    "start_time": "2024-02-29T15:21:38.843Z"
   },
   {
    "duration": 5580,
    "start_time": "2024-02-29T15:21:38.858Z"
   },
   {
    "duration": 5,
    "start_time": "2024-02-29T15:21:44.441Z"
   },
   {
    "duration": 121,
    "start_time": "2024-02-29T15:21:44.457Z"
   },
   {
    "duration": 0,
    "start_time": "2024-02-29T15:21:44.579Z"
   },
   {
    "duration": 0,
    "start_time": "2024-02-29T15:21:44.580Z"
   },
   {
    "duration": 0,
    "start_time": "2024-02-29T15:21:44.581Z"
   },
   {
    "duration": 1215,
    "start_time": "2024-02-29T15:22:51.229Z"
   },
   {
    "duration": 0,
    "start_time": "2024-02-29T15:22:52.445Z"
   },
   {
    "duration": 1527,
    "start_time": "2024-02-29T15:23:00.979Z"
   },
   {
    "duration": 0,
    "start_time": "2024-02-29T15:23:02.507Z"
   },
   {
    "duration": 1310,
    "start_time": "2024-02-29T15:23:15.208Z"
   },
   {
    "duration": 697,
    "start_time": "2024-02-29T15:23:16.519Z"
   },
   {
    "duration": 59,
    "start_time": "2024-02-29T15:23:17.218Z"
   },
   {
    "duration": 8,
    "start_time": "2024-02-29T15:23:17.279Z"
   },
   {
    "duration": 8,
    "start_time": "2024-02-29T15:23:17.288Z"
   },
   {
    "duration": 212,
    "start_time": "2024-02-29T15:23:17.297Z"
   },
   {
    "duration": 14,
    "start_time": "2024-02-29T15:23:17.511Z"
   },
   {
    "duration": 6,
    "start_time": "2024-02-29T15:23:17.526Z"
   },
   {
    "duration": 5637,
    "start_time": "2024-02-29T15:23:17.533Z"
   },
   {
    "duration": 5,
    "start_time": "2024-02-29T15:23:23.172Z"
   },
   {
    "duration": 113,
    "start_time": "2024-02-29T15:23:23.178Z"
   },
   {
    "duration": 0,
    "start_time": "2024-02-29T15:23:23.292Z"
   },
   {
    "duration": 0,
    "start_time": "2024-02-29T15:23:23.293Z"
   },
   {
    "duration": 0,
    "start_time": "2024-02-29T15:23:23.294Z"
   },
   {
    "duration": 25,
    "start_time": "2024-02-29T15:23:33.737Z"
   },
   {
    "duration": 197,
    "start_time": "2024-02-29T15:23:35.387Z"
   },
   {
    "duration": 5636,
    "start_time": "2024-02-29T15:23:43.547Z"
   },
   {
    "duration": 10,
    "start_time": "2024-02-29T15:25:47.277Z"
   },
   {
    "duration": 10,
    "start_time": "2024-02-29T15:27:46.957Z"
   },
   {
    "duration": 1454,
    "start_time": "2024-02-29T15:27:55.608Z"
   },
   {
    "duration": 687,
    "start_time": "2024-02-29T15:27:57.063Z"
   },
   {
    "duration": 57,
    "start_time": "2024-02-29T15:27:57.751Z"
   },
   {
    "duration": 7,
    "start_time": "2024-02-29T15:27:57.810Z"
   },
   {
    "duration": 4,
    "start_time": "2024-02-29T15:27:57.819Z"
   },
   {
    "duration": 216,
    "start_time": "2024-02-29T15:27:57.824Z"
   },
   {
    "duration": 17,
    "start_time": "2024-02-29T15:27:58.041Z"
   },
   {
    "duration": 6,
    "start_time": "2024-02-29T15:27:58.059Z"
   },
   {
    "duration": 5505,
    "start_time": "2024-02-29T15:27:58.066Z"
   },
   {
    "duration": 5,
    "start_time": "2024-02-29T15:28:03.574Z"
   },
   {
    "duration": 46,
    "start_time": "2024-02-29T15:28:03.580Z"
   },
   {
    "duration": 198,
    "start_time": "2024-02-29T15:28:03.627Z"
   },
   {
    "duration": 5419,
    "start_time": "2024-02-29T15:28:03.826Z"
   },
   {
    "duration": 1321,
    "start_time": "2024-02-29T15:29:04.068Z"
   },
   {
    "duration": 704,
    "start_time": "2024-02-29T15:29:05.391Z"
   },
   {
    "duration": 75,
    "start_time": "2024-02-29T15:29:06.096Z"
   },
   {
    "duration": 8,
    "start_time": "2024-02-29T15:29:06.173Z"
   },
   {
    "duration": 5,
    "start_time": "2024-02-29T15:29:06.182Z"
   },
   {
    "duration": 219,
    "start_time": "2024-02-29T15:29:06.188Z"
   },
   {
    "duration": 14,
    "start_time": "2024-02-29T15:29:06.408Z"
   },
   {
    "duration": 5,
    "start_time": "2024-02-29T15:29:06.424Z"
   },
   {
    "duration": 5536,
    "start_time": "2024-02-29T15:29:06.431Z"
   },
   {
    "duration": 5,
    "start_time": "2024-02-29T15:29:11.969Z"
   },
   {
    "duration": 56,
    "start_time": "2024-02-29T15:29:11.975Z"
   },
   {
    "duration": 206,
    "start_time": "2024-02-29T15:29:12.032Z"
   },
   {
    "duration": 8682,
    "start_time": "2024-02-29T15:29:12.240Z"
   },
   {
    "duration": 3,
    "start_time": "2024-02-29T15:31:17.016Z"
   },
   {
    "duration": 1350,
    "start_time": "2024-02-29T17:10:40.672Z"
   },
   {
    "duration": 686,
    "start_time": "2024-02-29T17:10:42.023Z"
   },
   {
    "duration": 64,
    "start_time": "2024-02-29T17:10:42.710Z"
   },
   {
    "duration": 7,
    "start_time": "2024-02-29T17:10:42.776Z"
   },
   {
    "duration": 4,
    "start_time": "2024-02-29T17:10:42.784Z"
   },
   {
    "duration": 215,
    "start_time": "2024-02-29T17:10:42.789Z"
   },
   {
    "duration": 14,
    "start_time": "2024-02-29T17:10:43.005Z"
   },
   {
    "duration": 9,
    "start_time": "2024-02-29T17:10:43.020Z"
   },
   {
    "duration": 5512,
    "start_time": "2024-02-29T17:10:43.030Z"
   },
   {
    "duration": 5,
    "start_time": "2024-02-29T17:10:48.544Z"
   },
   {
    "duration": 37,
    "start_time": "2024-02-29T17:10:48.551Z"
   },
   {
    "duration": 126,
    "start_time": "2024-02-29T17:10:48.590Z"
   },
   {
    "duration": 8845,
    "start_time": "2024-02-29T17:10:48.717Z"
   },
   {
    "duration": 4,
    "start_time": "2024-02-29T17:10:57.563Z"
   },
   {
    "duration": 107,
    "start_time": "2024-02-29T17:26:30.415Z"
   },
   {
    "duration": 52739,
    "start_time": "2024-02-29T17:28:15.127Z"
   },
   {
    "duration": 71,
    "start_time": "2024-02-29T17:31:47.779Z"
   },
   {
    "duration": 49090,
    "start_time": "2024-02-29T17:31:51.777Z"
   },
   {
    "duration": 64399,
    "start_time": "2024-02-29T17:36:05.163Z"
   },
   {
    "duration": 2,
    "start_time": "2024-02-29T17:40:12.715Z"
   },
   {
    "duration": 67607,
    "start_time": "2024-02-29T18:05:03.857Z"
   },
   {
    "duration": 67598,
    "start_time": "2024-02-29T18:10:56.562Z"
   },
   {
    "duration": 14692,
    "start_time": "2024-02-29T18:14:04.171Z"
   },
   {
    "duration": 13919,
    "start_time": "2024-02-29T18:15:05.947Z"
   },
   {
    "duration": 67100,
    "start_time": "2024-02-29T18:16:01.859Z"
   },
   {
    "duration": 14602,
    "start_time": "2024-02-29T18:17:08.961Z"
   },
   {
    "duration": 1809,
    "start_time": "2024-03-01T16:04:05.414Z"
   },
   {
    "duration": 2394,
    "start_time": "2024-03-01T16:04:07.225Z"
   },
   {
    "duration": 101,
    "start_time": "2024-03-01T16:04:09.620Z"
   },
   {
    "duration": 9,
    "start_time": "2024-03-01T16:04:09.723Z"
   },
   {
    "duration": 11,
    "start_time": "2024-03-01T16:04:09.734Z"
   },
   {
    "duration": 265,
    "start_time": "2024-03-01T16:04:09.746Z"
   },
   {
    "duration": 26,
    "start_time": "2024-03-01T16:04:10.012Z"
   },
   {
    "duration": 27,
    "start_time": "2024-03-01T16:04:10.040Z"
   },
   {
    "duration": 7620,
    "start_time": "2024-03-01T16:04:10.069Z"
   },
   {
    "duration": 6,
    "start_time": "2024-03-01T16:04:17.691Z"
   },
   {
    "duration": 50,
    "start_time": "2024-03-01T16:04:17.699Z"
   },
   {
    "duration": 138,
    "start_time": "2024-03-01T16:04:17.750Z"
   },
   {
    "duration": 12004,
    "start_time": "2024-03-01T16:04:17.890Z"
   },
   {
    "duration": 4,
    "start_time": "2024-03-01T16:04:29.896Z"
   },
   {
    "duration": 91281,
    "start_time": "2024-03-01T16:04:29.902Z"
   },
   {
    "duration": 115012,
    "start_time": "2024-03-01T16:06:01.185Z"
   },
   {
    "duration": 24305,
    "start_time": "2024-03-01T16:07:56.199Z"
   },
   {
    "duration": 298252,
    "start_time": "2024-03-01T16:12:23.554Z"
   },
   {
    "duration": 11813,
    "start_time": "2024-03-01T16:28:35.357Z"
   },
   {
    "duration": 154,
    "start_time": "2024-03-01T16:46:15.772Z"
   },
   {
    "duration": 0,
    "start_time": "2024-03-01T16:46:15.928Z"
   },
   {
    "duration": 12,
    "start_time": "2024-03-01T16:48:12.895Z"
   },
   {
    "duration": 991450,
    "start_time": "2024-03-01T16:48:18.040Z"
   },
   {
    "duration": 271445,
    "start_time": "2024-03-01T17:04:49.492Z"
   },
   {
    "duration": 736,
    "start_time": "2024-03-01T17:09:20.939Z"
   },
   {
    "duration": 0,
    "start_time": "2024-03-01T17:09:21.677Z"
   },
   {
    "duration": 759801,
    "start_time": "2024-03-01T17:10:25.008Z"
   },
   {
    "duration": 350883,
    "start_time": "2024-03-01T17:23:04.811Z"
   },
   {
    "duration": 9,
    "start_time": "2024-03-01T17:44:59.619Z"
   },
   {
    "duration": 114317,
    "start_time": "2024-03-01T17:50:28.778Z"
   },
   {
    "duration": 114015,
    "start_time": "2024-03-01T17:52:33.394Z"
   },
   {
    "duration": 111971,
    "start_time": "2024-03-01T17:54:47.433Z"
   },
   {
    "duration": 5,
    "start_time": "2024-03-01T17:57:40.653Z"
   },
   {
    "duration": 19,
    "start_time": "2024-03-01T17:57:44.112Z"
   },
   {
    "duration": 18,
    "start_time": "2024-03-01T17:58:19.732Z"
   },
   {
    "duration": 18,
    "start_time": "2024-03-01T17:58:36.822Z"
   },
   {
    "duration": 19,
    "start_time": "2024-03-01T18:00:32.911Z"
   },
   {
    "duration": 18,
    "start_time": "2024-03-01T18:00:41.066Z"
   },
   {
    "duration": 95,
    "start_time": "2024-03-01T20:44:51.596Z"
   },
   {
    "duration": 1938,
    "start_time": "2024-03-02T05:40:00.740Z"
   },
   {
    "duration": 2338,
    "start_time": "2024-03-02T05:40:02.681Z"
   },
   {
    "duration": 31,
    "start_time": "2024-03-02T05:40:05.021Z"
   },
   {
    "duration": 12,
    "start_time": "2024-03-02T05:40:05.054Z"
   },
   {
    "duration": 6,
    "start_time": "2024-03-02T05:40:05.068Z"
   },
   {
    "duration": 231,
    "start_time": "2024-03-02T05:40:05.076Z"
   },
   {
    "duration": 25,
    "start_time": "2024-03-02T05:40:05.309Z"
   },
   {
    "duration": 11,
    "start_time": "2024-03-02T05:40:05.336Z"
   },
   {
    "duration": 4190,
    "start_time": "2024-03-02T05:40:05.348Z"
   },
   {
    "duration": 428,
    "start_time": "2024-03-02T05:40:09.539Z"
   },
   {
    "duration": 0,
    "start_time": "2024-03-02T05:40:09.969Z"
   },
   {
    "duration": 0,
    "start_time": "2024-03-02T05:40:09.970Z"
   },
   {
    "duration": 0,
    "start_time": "2024-03-02T05:40:09.971Z"
   },
   {
    "duration": 0,
    "start_time": "2024-03-02T05:40:09.972Z"
   },
   {
    "duration": 0,
    "start_time": "2024-03-02T05:40:09.973Z"
   },
   {
    "duration": 0,
    "start_time": "2024-03-02T05:40:09.974Z"
   },
   {
    "duration": 0,
    "start_time": "2024-03-02T05:40:09.975Z"
   },
   {
    "duration": 0,
    "start_time": "2024-03-02T05:40:09.976Z"
   },
   {
    "duration": 0,
    "start_time": "2024-03-02T05:40:09.977Z"
   },
   {
    "duration": 0,
    "start_time": "2024-03-02T05:40:09.979Z"
   },
   {
    "duration": 0,
    "start_time": "2024-03-02T05:40:09.980Z"
   },
   {
    "duration": 0,
    "start_time": "2024-03-02T05:40:09.981Z"
   },
   {
    "duration": 0,
    "start_time": "2024-03-02T05:40:09.982Z"
   },
   {
    "duration": 0,
    "start_time": "2024-03-02T05:40:09.982Z"
   },
   {
    "duration": 0,
    "start_time": "2024-03-02T05:40:09.984Z"
   },
   {
    "duration": 0,
    "start_time": "2024-03-02T05:40:09.985Z"
   },
   {
    "duration": 0,
    "start_time": "2024-03-02T05:40:09.986Z"
   },
   {
    "duration": 1135612,
    "start_time": "2024-03-02T06:01:41.026Z"
   },
   {
    "duration": 8,
    "start_time": "2024-03-02T06:27:24.838Z"
   },
   {
    "duration": 43,
    "start_time": "2024-03-02T06:27:27.050Z"
   },
   {
    "duration": 6,
    "start_time": "2024-03-02T06:27:27.876Z"
   },
   {
    "duration": 6442,
    "start_time": "2024-03-02T06:27:29.724Z"
   },
   {
    "duration": 3,
    "start_time": "2024-03-02T06:27:41.645Z"
   },
   {
    "duration": 1568,
    "start_time": "2024-03-02T06:28:32.641Z"
   },
   {
    "duration": 867,
    "start_time": "2024-03-02T06:28:34.211Z"
   },
   {
    "duration": 28,
    "start_time": "2024-03-02T06:28:35.079Z"
   },
   {
    "duration": 18,
    "start_time": "2024-03-02T06:28:35.109Z"
   },
   {
    "duration": 26,
    "start_time": "2024-03-02T06:28:35.129Z"
   },
   {
    "duration": 225,
    "start_time": "2024-03-02T06:28:35.156Z"
   },
   {
    "duration": 25,
    "start_time": "2024-03-02T06:28:35.382Z"
   },
   {
    "duration": 30,
    "start_time": "2024-03-02T06:28:35.409Z"
   },
   {
    "duration": 4172,
    "start_time": "2024-03-02T06:28:35.441Z"
   },
   {
    "duration": 1078661,
    "start_time": "2024-03-02T06:28:39.616Z"
   },
   {
    "duration": 6,
    "start_time": "2024-03-02T06:46:38.280Z"
   },
   {
    "duration": 40,
    "start_time": "2024-03-02T06:46:38.288Z"
   },
   {
    "duration": 6,
    "start_time": "2024-03-02T06:46:38.329Z"
   },
   {
    "duration": 6268,
    "start_time": "2024-03-02T06:46:38.336Z"
   },
   {
    "duration": 4,
    "start_time": "2024-03-02T06:46:44.606Z"
   },
   {
    "duration": 97573,
    "start_time": "2024-03-02T06:46:44.611Z"
   },
   {
    "duration": 118412,
    "start_time": "2024-03-02T06:48:22.264Z"
   },
   {
    "duration": 23908,
    "start_time": "2024-03-02T06:50:20.677Z"
   },
   {
    "duration": 262223,
    "start_time": "2024-03-02T06:50:44.586Z"
   },
   {
    "duration": 10102,
    "start_time": "2024-03-02T06:55:06.810Z"
   },
   {
    "duration": 837674,
    "start_time": "2024-03-02T06:55:16.913Z"
   },
   {
    "duration": 223647,
    "start_time": "2024-03-02T07:09:14.589Z"
   },
   {
    "duration": 707295,
    "start_time": "2024-03-02T07:12:58.238Z"
   },
   {
    "duration": 390480,
    "start_time": "2024-03-02T07:24:45.534Z"
   },
   {
    "duration": 8,
    "start_time": "2024-03-02T07:31:16.016Z"
   },
   {
    "duration": 121262,
    "start_time": "2024-03-02T07:31:16.026Z"
   },
   {
    "duration": 68,
    "start_time": "2024-03-02T11:04:01.726Z"
   }
  ],
  "kernelspec": {
   "display_name": "Python 3 (ipykernel)",
   "language": "python",
   "name": "python3"
  },
  "language_info": {
   "codemirror_mode": {
    "name": "ipython",
    "version": 3
   },
   "file_extension": ".py",
   "mimetype": "text/x-python",
   "name": "python",
   "nbconvert_exporter": "python",
   "pygments_lexer": "ipython3",
   "version": "3.9.5"
  },
  "toc": {
   "base_numbering": 1,
   "nav_menu": {},
   "number_sections": true,
   "sideBar": true,
   "skip_h1_title": true,
   "title_cell": "Содержание",
   "title_sidebar": "Contents",
   "toc_cell": true,
   "toc_position": {
    "height": "calc(100% - 180px)",
    "left": "10px",
    "top": "150px",
    "width": "302.391px"
   },
   "toc_section_display": true,
   "toc_window_display": false
  }
 },
 "nbformat": 4,
 "nbformat_minor": 4
}
